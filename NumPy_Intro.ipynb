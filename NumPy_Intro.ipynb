{
  "cells": [
    {
      "cell_type": "markdown",
      "metadata": {
        "id": "view-in-github",
        "colab_type": "text"
      },
      "source": [
        "<a href=\"https://colab.research.google.com/github/adas754/numpy_interview/blob/main/NumPy_Intro.ipynb\" target=\"_parent\"><img src=\"https://colab.research.google.com/assets/colab-badge.svg\" alt=\"Open In Colab\"/></a>"
      ]
    },
    {
      "cell_type": "markdown",
      "id": "37e4596b",
      "metadata": {
        "id": "37e4596b"
      },
      "source": [
        "# NumPy"
      ]
    },
    {
      "cell_type": "markdown",
      "id": "aebfe9a2",
      "metadata": {
        "id": "aebfe9a2"
      },
      "source": [
        "- What is Numpy array\n",
        "- Difference between List and Array\n",
        "- Properties of Array"
      ]
    },
    {
      "cell_type": "code",
      "execution_count": 66,
      "id": "509aa3ee",
      "metadata": {
        "id": "509aa3ee"
      },
      "outputs": [],
      "source": [
        "import numpy as np"
      ]
    },
    {
      "cell_type": "code",
      "execution_count": 67,
      "id": "80b68c29",
      "metadata": {
        "id": "80b68c29"
      },
      "outputs": [],
      "source": [
        "l=[1,2,3,4]"
      ]
    },
    {
      "cell_type": "code",
      "execution_count": 68,
      "id": "44089c94",
      "metadata": {
        "id": "44089c94"
      },
      "outputs": [],
      "source": [
        "l1=[1,\"a\",3.0,True]  #hetrogenous"
      ]
    },
    {
      "cell_type": "code",
      "execution_count": 72,
      "id": "e457888b",
      "metadata": {
        "id": "e457888b"
      },
      "outputs": [],
      "source": [
        "a=np.array([1,2,3,4,'m',1.5])"
      ]
    },
    {
      "cell_type": "code",
      "source": [
        "a.dtype"
      ],
      "metadata": {
        "colab": {
          "base_uri": "https://localhost:8080/"
        },
        "id": "uFL2hz_bs6_A",
        "outputId": "2f60b3cf-8bb8-40f8-8773-6ef1fd2683e0"
      },
      "id": "uFL2hz_bs6_A",
      "execution_count": 73,
      "outputs": [
        {
          "output_type": "execute_result",
          "data": {
            "text/plain": [
              "dtype('<U32')"
            ]
          },
          "metadata": {},
          "execution_count": 73
        }
      ]
    },
    {
      "cell_type": "code",
      "source": [
        "import numpy as np\n",
        "\n",
        "# creating and initializing an array\n",
        "arr = np.array([1, 2, 3, 23, 56, 100,89.7])\n",
        "\n",
        "# printing the array and checking datatype\n",
        "print('Array:', arr)\n",
        "\n",
        "print('Datatype:', arr.dtype)"
      ],
      "metadata": {
        "colab": {
          "base_uri": "https://localhost:8080/"
        },
        "id": "rAE4E-HotP_j",
        "outputId": "d83f3fdd-7c2a-4509-bbbd-6195b5a61ddd"
      },
      "id": "rAE4E-HotP_j",
      "execution_count": 74,
      "outputs": [
        {
          "output_type": "stream",
          "name": "stdout",
          "text": [
            "Array: [  1.    2.    3.   23.   56.  100.   89.7]\n",
            "Datatype: float64\n"
          ]
        }
      ]
    },
    {
      "cell_type": "code",
      "execution_count": 75,
      "id": "6a805295",
      "metadata": {
        "colab": {
          "base_uri": "https://localhost:8080/"
        },
        "id": "6a805295",
        "outputId": "7c24640d-c999-4599-c28e-30dd143db66b"
      },
      "outputs": [
        {
          "output_type": "execute_result",
          "data": {
            "text/plain": [
              "array(['1', 'a', '3.0', 'True'], dtype='<U32')"
            ]
          },
          "metadata": {},
          "execution_count": 75
        }
      ],
      "source": [
        "np.array([1,\"a\",3.0,True]) #homogeous"
      ]
    },
    {
      "cell_type": "code",
      "execution_count": 76,
      "id": "a591fc75",
      "metadata": {
        "id": "a591fc75"
      },
      "outputs": [],
      "source": [
        "#List vs Array"
      ]
    },
    {
      "cell_type": "code",
      "execution_count": 77,
      "id": "e61344e8",
      "metadata": {
        "id": "e61344e8"
      },
      "outputs": [],
      "source": [
        "L=range(10000)#list"
      ]
    },
    {
      "cell_type": "code",
      "execution_count": 78,
      "id": "3146adb0",
      "metadata": {
        "id": "3146adb0",
        "outputId": "a02b3fbd-181c-43af-e047-d2db4c795fc7",
        "colab": {
          "base_uri": "https://localhost:8080/"
        }
      },
      "outputs": [
        {
          "output_type": "stream",
          "name": "stdout",
          "text": [
            "3.06 ms ± 103 µs per loop (mean ± std. dev. of 7 runs, 100 loops each)\n"
          ]
        }
      ],
      "source": [
        "%timeit [i**2 for i in L]"
      ]
    },
    {
      "cell_type": "code",
      "execution_count": 79,
      "id": "5ca2fdd4",
      "metadata": {
        "id": "5ca2fdd4"
      },
      "outputs": [],
      "source": [
        "arr=np.array(L)#numpy"
      ]
    },
    {
      "cell_type": "code",
      "execution_count": 80,
      "id": "3864f795",
      "metadata": {
        "scrolled": true,
        "id": "3864f795",
        "outputId": "63ac0dd1-e972-4e9e-adde-8169b62ae199",
        "colab": {
          "base_uri": "https://localhost:8080/"
        }
      },
      "outputs": [
        {
          "output_type": "stream",
          "name": "stdout",
          "text": [
            "8.65 µs ± 2.05 µs per loop (mean ± std. dev. of 7 runs, 100000 loops each)\n"
          ]
        }
      ],
      "source": [
        "%timeit arr**2"
      ]
    },
    {
      "cell_type": "markdown",
      "id": "e3b4fe11",
      "metadata": {
        "id": "e3b4fe11"
      },
      "source": [
        "# Properties\n",
        "- Efficient Data Storage\n",
        "- High Performance\n",
        "- Vectorization\n",
        "- Broad Range of Mathematical Functions\n",
        "- Broadcasting\n",
        "- Random Number Generation"
      ]
    },
    {
      "cell_type": "markdown",
      "source": [
        "#broadcasting"
      ],
      "metadata": {
        "id": "vFQ2buCtvi76"
      },
      "id": "vFQ2buCtvi76"
    },
    {
      "cell_type": "code",
      "source": [
        "import numpy as np\n",
        "a = np.array([[0.0,0.0,0.0],[10.0,10.0,10.0],[20.0,20.0,20.0],[30.0,30.0,30.0]])\n",
        "b = np.array([1.0,2.0,3.0])\n",
        "\n",
        "print ('First array:' )\n",
        "print (a)\n",
        "print ('\\n')\n",
        "\n",
        "print ('Second array:')\n",
        "print (b)\n",
        "print ('\\n')\n",
        "\n",
        "print ('First Array + Second Array')\n",
        "print (a + b)"
      ],
      "metadata": {
        "colab": {
          "base_uri": "https://localhost:8080/"
        },
        "id": "pHBmCHb9xIPC",
        "outputId": "c90fed30-1293-4296-b9a4-7ece6e73b0b5"
      },
      "id": "pHBmCHb9xIPC",
      "execution_count": 81,
      "outputs": [
        {
          "output_type": "stream",
          "name": "stdout",
          "text": [
            "First array:\n",
            "[[ 0.  0.  0.]\n",
            " [10. 10. 10.]\n",
            " [20. 20. 20.]\n",
            " [30. 30. 30.]]\n",
            "\n",
            "\n",
            "Second array:\n",
            "[1. 2. 3.]\n",
            "\n",
            "\n",
            "First Array + Second Array\n",
            "[[ 1.  2.  3.]\n",
            " [11. 12. 13.]\n",
            " [21. 22. 23.]\n",
            " [31. 32. 33.]]\n"
          ]
        }
      ]
    },
    {
      "cell_type": "code",
      "source": [
        "#vectorization"
      ],
      "metadata": {
        "id": "oX4b0784u_45"
      },
      "id": "oX4b0784u_45",
      "execution_count": 82,
      "outputs": []
    },
    {
      "cell_type": "code",
      "execution_count": 83,
      "id": "d9569722",
      "metadata": {
        "id": "d9569722",
        "colab": {
          "base_uri": "https://localhost:8080/"
        },
        "outputId": "60641146-ea04-4db8-ae9a-c60e8f60ed7c"
      },
      "outputs": [
        {
          "output_type": "stream",
          "name": "stdout",
          "text": [
            "[11 12 13 14 15]\n"
          ]
        }
      ],
      "source": [
        "import numpy as np\n",
        "\n",
        "array1 = np.array([1, 2, 3, 4, 5 ])\n",
        "number = 10\n",
        "\n",
        "#  number sums up with each array element\n",
        "result = array1 + number\n",
        "\n",
        "print(result)"
      ]
    },
    {
      "cell_type": "code",
      "source": [
        "np.arange(1,10)"
      ],
      "metadata": {
        "colab": {
          "base_uri": "https://localhost:8080/"
        },
        "id": "1oZRBp8g0XYd",
        "outputId": "3b2b0500-5fd1-4d9e-cef6-6d1812e617a5"
      },
      "id": "1oZRBp8g0XYd",
      "execution_count": 84,
      "outputs": [
        {
          "output_type": "execute_result",
          "data": {
            "text/plain": [
              "array([1, 2, 3, 4, 5, 6, 7, 8, 9])"
            ]
          },
          "metadata": {},
          "execution_count": 84
        }
      ]
    },
    {
      "cell_type": "code",
      "source": [
        "np.random.randint(1,10)"
      ],
      "metadata": {
        "colab": {
          "base_uri": "https://localhost:8080/"
        },
        "id": "xGnN1JrHzyhP",
        "outputId": "81f31fc5-3d68-4438-e2d2-944534c721d5"
      },
      "id": "xGnN1JrHzyhP",
      "execution_count": 88,
      "outputs": [
        {
          "output_type": "execute_result",
          "data": {
            "text/plain": [
              "7"
            ]
          },
          "metadata": {},
          "execution_count": 88
        }
      ]
    },
    {
      "cell_type": "markdown",
      "id": "6f964793",
      "metadata": {
        "id": "6f964793"
      },
      "source": [
        "1. **Basic Mathematical Operations**:\n",
        "   - `np.add()`: Element-wise addition of two arrays.\n",
        "   - `np.subtract()`: Element-wise subtraction of two arrays.\n",
        "   - `np.multiply()`: Element-wise multiplication of two arrays.\n",
        "   - `np.divide()`: Element-wise division of two arrays.\n",
        "   - `np.exp()`: Compute the exponentials of elements in an array.\n",
        "   - `np.log()`: Natural logarithm (base e) of elements in an array.\n",
        "   - `np.sqrt()`: Square root of elements in an array.\n",
        "   - `np.power()`: Raise elements to a specified power.\n",
        "\n",
        "2. **Trigonometric Functions**:\n",
        "   - `np.sin()`, `np.cos()`, `np.tan()`: Sine, cosine, and tangent functions.\n",
        "   - `np.arcsin()`, `np.arccos()`, `np.arctan()`: Inverse trigonometric functions.\n",
        "   \n",
        "3. **Linear Algebra**:\n",
        "   - `np.dot()`: Dot product of two arrays (vectors or matrices).\n",
        "   - `np.matmul()`: Matrix multiplication.\n",
        "   - `np.linalg.inv()`: Inverse of a square matrix.\n",
        "   - `np.linalg.det()`: Determinant of a square matrix.\n",
        "   - `np.linalg.eig()`: Eigenvalues and eigenvectors of a matrix.\n",
        "   - `np.linalg.svd()`: Singular value decomposition of a matrix.\n",
        "\n",
        "4. **Statistics and Random Numbers**:\n",
        "   - `np.mean()`: Compute the mean (average) of elements in an array.\n",
        "   - `np.median()`: Calculate the median of elements in an array.\n",
        "   - `np.std()`: Compute the standard deviation of elements in an array.\n",
        "   - `np.var()`: Calculate the variance of elements in an array.\n",
        "   - `np.random.rand()`: Generate random numbers from a uniform distribution.\n",
        "   - `np.random.randn()`: Generate random numbers from a standard normal distribution.\n",
        "   - `np.random.randint()`: Generate random integers within a specified range.\n",
        "\n",
        "5. **Interpolation**:\n",
        "   - `np.interp()`: Perform linear interpolation between data points.\n",
        "   - `np.polyfit()`: Fit a polynomial to a set of data points.\n",
        "   - `np.polyval()`: Evaluate a polynomial at specified values.\n",
        "\n",
        "6. **Numerical Integration and Differentiation**:\n",
        "   - `np.trapz()`: Compute the integral of a function using the trapezoidal rule.\n",
        "   - `np.gradient()`: Compute the gradient (derivative) of an array.\n",
        "\n",
        "7. **Signal Processing**:\n",
        "   - `np.convolve()`: Perform 1D convolution of two arrays.\n",
        "   - `np.fft.fft()`: Compute the one-dimensional discrete Fourier Transform (DFT).\n",
        "\n",
        "8. **Miscellaneous**:\n",
        "   - `np.argmax()`, `np.argmin()`: Find the indices of maximum and minimum values in an array.\n",
        "   - `np.unique()`: Find unique elements in an array."
      ]
    },
    {
      "cell_type": "code",
      "execution_count": 9,
      "id": "7d0f56d9",
      "metadata": {
        "id": "7d0f56d9"
      },
      "outputs": [],
      "source": [
        "#Write a function to Calculate the total sales amount for each product in a Numpy array arr.\n",
        "#Input: arr = np.array([[100, 200, 150], [300, 400, 250]])\n",
        "\n",
        "#Output: [400 600 400]"
      ]
    },
    {
      "cell_type": "code",
      "source": [
        "import numpy as np\n",
        "def cal_sales(arr):\n",
        "  return np.sum(arr,axis=0)#row wise"
      ],
      "metadata": {
        "id": "JwLtiaNTh8LK"
      },
      "id": "JwLtiaNTh8LK",
      "execution_count": 10,
      "outputs": []
    },
    {
      "cell_type": "code",
      "source": [
        "arr = np.array([[100, 200, 150], [300, 400, 250]])\n",
        "cal_sales(arr)"
      ],
      "metadata": {
        "colab": {
          "base_uri": "https://localhost:8080/"
        },
        "id": "FT5ppwnFkQQf",
        "outputId": "f21ff140-f977-4002-faf0-71d1502ac49a"
      },
      "id": "FT5ppwnFkQQf",
      "execution_count": 8,
      "outputs": [
        {
          "output_type": "execute_result",
          "data": {
            "text/plain": [
              "array([400, 600, 400])"
            ]
          },
          "metadata": {},
          "execution_count": 8
        }
      ]
    },
    {
      "cell_type": "code",
      "source": [
        "#Create a function to find the indices of elements that are greater than a specified threshold in a Numpy array arr.\n",
        "#Input: arr = np.array([3, 8, 2, 6, 10])\n",
        "\n",
        "    #- threshold_value= 5"
      ],
      "metadata": {
        "id": "oPlYnatXkTER"
      },
      "id": "oPlYnatXkTER",
      "execution_count": 11,
      "outputs": []
    },
    {
      "cell_type": "code",
      "source": [
        "def ind(arr,threeshold):\n",
        "  return np.where(arr>5)[0] #where function\n",
        "arr=np.array([3, 8, 2, 6, 10])\n",
        "print(ind(arr,5))\n"
      ],
      "metadata": {
        "colab": {
          "base_uri": "https://localhost:8080/"
        },
        "id": "IE2id7GKlA06",
        "outputId": "0e3c1e41-a3ee-463b-b61c-4dc27fd33638"
      },
      "id": "IE2id7GKlA06",
      "execution_count": 65,
      "outputs": [
        {
          "output_type": "stream",
          "name": "stdout",
          "text": [
            "[1 3 4]\n"
          ]
        }
      ]
    },
    {
      "cell_type": "code",
      "source": [
        "#Write a Function that Remove duplicate elements from a Numpy array arr while preserving order and give you indices.\n",
        "#Input: arr = np.array([1, 2, 3, 2,  4,1])\n",
        "\n",
        "#Output: [0 1 2 4]"
      ],
      "metadata": {
        "id": "FhWCGBHCmjNP"
      },
      "id": "FhWCGBHCmjNP",
      "execution_count": 27,
      "outputs": []
    },
    {
      "cell_type": "code",
      "source": [
        "def rem_dup(arr):\n",
        "  return np.unique(arr,return_index=True)[1]"
      ],
      "metadata": {
        "id": "tPtLPTVIpZb_"
      },
      "id": "tPtLPTVIpZb_",
      "execution_count": 59,
      "outputs": []
    },
    {
      "cell_type": "code",
      "source": [
        "arr = np.array([1, 2, 3, 2, 4, 1])"
      ],
      "metadata": {
        "id": "M4J9h-qkrBs3"
      },
      "id": "M4J9h-qkrBs3",
      "execution_count": 60,
      "outputs": []
    },
    {
      "cell_type": "code",
      "source": [
        "rem_dup(arr)"
      ],
      "metadata": {
        "colab": {
          "base_uri": "https://localhost:8080/"
        },
        "id": "yPJEDiqgqBb8",
        "outputId": "17a83e01-99e2-418b-ce42-d959e9de57c1"
      },
      "id": "yPJEDiqgqBb8",
      "execution_count": 61,
      "outputs": [
        {
          "output_type": "execute_result",
          "data": {
            "text/plain": [
              "array([0, 1, 2, 4])"
            ]
          },
          "metadata": {},
          "execution_count": 61
        }
      ]
    }
  ],
  "metadata": {
    "kernelspec": {
      "display_name": "Python 3 (ipykernel)",
      "language": "python",
      "name": "python3"
    },
    "language_info": {
      "codemirror_mode": {
        "name": "ipython",
        "version": 3
      },
      "file_extension": ".py",
      "mimetype": "text/x-python",
      "name": "python",
      "nbconvert_exporter": "python",
      "pygments_lexer": "ipython3",
      "version": "3.9.13"
    },
    "colab": {
      "provenance": [],
      "include_colab_link": true
    }
  },
  "nbformat": 4,
  "nbformat_minor": 5
}